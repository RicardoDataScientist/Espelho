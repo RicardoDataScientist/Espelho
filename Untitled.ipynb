{
 "cells": [
  {
   "cell_type": "code",
   "execution_count": null,
   "id": "7db84569-99f1-4417-87a4-395e7587a033",
   "metadata": {},
   "outputs": [],
   "source": [
    "dsfdsf"
   ]
  }
 ],
 "metadata": {
  "kernelspec": {
   "display_name": "Python (Espelho)",
   "language": "python",
   "name": "espelho"
  },
  "language_info": {
   "codemirror_mode": {
    "name": "ipython",
    "version": 3
   },
   "file_extension": ".py",
   "mimetype": "text/x-python",
   "name": "python",
   "nbconvert_exporter": "python",
   "pygments_lexer": "ipython3",
   "version": "3.10.11"
  }
 },
 "nbformat": 4,
 "nbformat_minor": 5
}
