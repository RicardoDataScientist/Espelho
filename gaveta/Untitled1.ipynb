{
 "cells": [
  {
   "cell_type": "code",
   "execution_count": 6,
   "id": "5672f688-f46a-475f-8000-5e55d8ea9016",
   "metadata": {},
   "outputs": [
    {
     "name": "stdout",
     "output_type": "stream",
     "text": [
      "Bibliotecas importadas com sucesso! ✔️\n"
     ]
    }
   ],
   "source": [
    "# Célula 1\n",
    "import pdfplumber\n",
    "import pandas as pd\n",
    "import re\n",
    "import os\n",
    "\n",
    "print(\"Bibliotecas importadas com sucesso! ✔️\")"
   ]
  },
  {
   "cell_type": "code",
   "execution_count": 7,
   "id": "aa1d55f1-a0c0-41af-b6e0-ef50d4a27387",
   "metadata": {},
   "outputs": [],
   "source": [
    "# Célula 2 (Versão Final - Lógica Reescrita)\n",
    "\n",
    "def processar_rundown_pdf(caminho_pdf):\n",
    "    \"\"\"\n",
    "    Função reescrita para extrair dados do rundown de forma robusta,\n",
    "    processando os blocos em uma única passagem.\n",
    "    \"\"\"\n",
    "    if not os.path.exists(caminho_pdf):\n",
    "        print(f\"Erro: O arquivo não foi encontrado em '{caminho_pdf}'\")\n",
    "        return None\n",
    "\n",
    "    dados_finais = []\n",
    "    bloco_numero = 1\n",
    "\n",
    "    with pdfplumber.open(caminho_pdf) as pdf:\n",
    "        for pagina in pdf.pages:\n",
    "            tabelas = pagina.extract_tables()\n",
    "            for tabela in tabelas:\n",
    "                for linha in tabela:\n",
    "                    # Checagem nº 1: É uma linha de Break?\n",
    "                    # Procuramos por 'Break' no primeiro elemento da linha.\n",
    "                    if linha and linha[0] and isinstance(linha[0], str) and 'Break' in linha[0]:\n",
    "                        bloco_numero += 1\n",
    "                        continue  # Pula para a próxima linha, não adiciona o Break aos dados\n",
    "\n",
    "                    # Checagem nº 2: É uma linha de dados válida?\n",
    "                    # A condição principal: a última coluna DEVE ser um número (a Ordem).\n",
    "                    if len(linha) >= 10 and linha[-1] and isinstance(linha[-1], str) and linha[-1].isdigit():\n",
    "                        dados_finais.append({\n",
    "                            'Bloco': f\"Bloco {bloco_numero:02d}\",\n",
    "                            'Tipo': linha[1],\n",
    "                            'Retranca': linha[2],\n",
    "                            'Início (Lauda)': linha[6],\n",
    "                            'Fim (Lauda)': linha[7],\n",
    "                            'Ordem': int(linha[9]) # Já converte para inteiro aqui\n",
    "                        })\n",
    "\n",
    "    if not dados_finais:\n",
    "        print(\"Atenção: Nenhum dado de lauda válido foi extraído.\")\n",
    "        return None\n",
    "\n",
    "    # Cria o DataFrame diretamente da lista de dicionários\n",
    "    df = pd.DataFrame(dados_finais)\n",
    "\n",
    "    # Apenas ordena, pois os tipos e nomes de coluna já estão corretos\n",
    "    df = df.sort_values(by='Ordem').reset_index(drop=True)\n",
    "\n",
    "    print(\"Função 'processar_rundown_pdf' (Versão Final) pronta para ser usada! 🔥\")\n",
    "    return df"
   ]
  },
  {
   "cell_type": "code",
   "execution_count": 8,
   "id": "77d7c281-ee5a-44af-bcaa-0f059e94670c",
   "metadata": {},
   "outputs": [
    {
     "name": "stdout",
     "output_type": "stream",
     "text": [
      "Função 'processar_rundown_pdf' (Versão Final) pronta para ser usada! 🔥\n"
     ]
    }
   ],
   "source": [
    "# Célula 3\n",
    "# IMPORTANTE: Coloque o caminho para o seu PDF aqui.\n",
    "# Se o notebook e o PDF estão na mesma pasta, só o nome do arquivo basta.\n",
    "caminho_do_pdf = \"rundown-display.pdf\"\n",
    "\n",
    "# Chama a função que criamos na célula anterior\n",
    "df_rundown = processar_rundown_pdf(caminho_do_pdf)\n",
    "\n",
    "# Se o DataFrame foi criado, exibe ele na tela\n",
    "if df_rundown is not None:\n",
    "    df_rundown"
   ]
  },
  {
   "cell_type": "code",
   "execution_count": 9,
   "id": "076d19bc-b746-4ab1-b3b5-bb504565e838",
   "metadata": {},
   "outputs": [
    {
     "name": "stdout",
     "output_type": "stream",
     "text": [
      "Arquivo salvo com sucesso em 'rundown_processado.csv'! 💾\n"
     ]
    }
   ],
   "source": [
    "# Célula 4\n",
    "if df_rundown is not None:\n",
    "    caminho_saida_csv = \"rundown_processado.csv\"\n",
    "    df_rundown.to_csv(caminho_saida_csv, index=False, encoding='utf-8-sig')\n",
    "    print(f\"Arquivo salvo com sucesso em '{caminho_saida_csv}'! 💾\")"
   ]
  },
  {
   "cell_type": "code",
   "execution_count": null,
   "id": "7d28065d-38c3-404d-b9b0-a8bf3d0205a4",
   "metadata": {},
   "outputs": [],
   "source": []
  }
 ],
 "metadata": {
  "kernelspec": {
   "display_name": "Python (Espelho)",
   "language": "python",
   "name": "espelho"
  },
  "language_info": {
   "codemirror_mode": {
    "name": "ipython",
    "version": 3
   },
   "file_extension": ".py",
   "mimetype": "text/x-python",
   "name": "python",
   "nbconvert_exporter": "python",
   "pygments_lexer": "ipython3",
   "version": "3.10.11"
  }
 },
 "nbformat": 4,
 "nbformat_minor": 5
}
